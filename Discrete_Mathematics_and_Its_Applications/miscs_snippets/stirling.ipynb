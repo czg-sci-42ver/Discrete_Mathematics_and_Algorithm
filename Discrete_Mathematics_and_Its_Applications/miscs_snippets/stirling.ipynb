{
 "cells": [
  {
   "cell_type": "markdown",
   "id": "e27a5e5d-d093-43d9-8202-da315556b1f9",
   "metadata": {},
   "source": [
    "# stirling.pdf"
   ]
  },
  {
   "cell_type": "code",
   "execution_count": 2,
   "id": "aa226d5e-1d1a-4c64-b3ce-2bafa3b17c53",
   "metadata": {},
   "outputs": [
    {
     "name": "stdout",
     "output_type": "stream",
     "text": [
      "IPython console for SymPy 1.12 (Python 3.11.5-64-bit) (ground types: python)\n",
      "\n",
      "These commands were executed:\n",
      ">>> from sympy import *\n",
      ">>> x, y, z, t = symbols('x y z t')\n",
      ">>> k, m, n = symbols('k m n', integer=True)\n",
      ">>> f, g, h = symbols('f g h', cls=Function)\n",
      ">>> init_printing()\n",
      "\n",
      "Documentation can be found at https://docs.sympy.org/1.12/\n",
      "\n"
     ]
    }
   ],
   "source": [
    "# https://docs.sympy.org/latest/tutorials/intro-tutorial/printing.html\n",
    "from sympy import init_session\n",
    "init_session()"
   ]
  },
  {
   "cell_type": "code",
   "execution_count": 3,
   "id": "a583f0f4-ffb2-4cb9-a9a0-dc9745e033ff",
   "metadata": {},
   "outputs": [
    {
     "data": {
      "image/png": "[encoded data removed]",
      "text/latex": [
       "$\\displaystyle \\int \\sqrt{\\frac{1}{x}}\\, dx$"
      ],
      "text/plain": [
       "⌠           \n",
       "⎮     ___   \n",
       "⎮    ╱ 1    \n",
       "⎮   ╱  ─  dx\n",
       "⎮ ╲╱   x    \n",
       "⌡           "
      ]
     },
     "execution_count": 3,
     "metadata": {},
     "output_type": "execute_result"
    }
   ],
   "source": [
    "Integral(sqrt(1/x), x)"
   ]
  },
  {
   "cell_type": "code",
   "execution_count": 4,
   "id": "d22a7e2c-516d-43fa-9634-62ef61a7c103",
   "metadata": {},
   "outputs": [
    {
     "data": {
      "image/png": "[encoded data removed]",
      "text/latex": [
       "$\\displaystyle \\frac{n^{2} x^{n} e^{- x}}{x^{2}} - \\frac{2 n x^{n} e^{- x}}{x} - \\frac{n x^{n} e^{- x}}{x^{2}} + x^{n} e^{- x}$"
      ],
      "text/plain": [
       " 2  n  -x        n  -x      n  -x         \n",
       "n ⋅x ⋅ℯ     2⋅n⋅x ⋅ℯ     n⋅x ⋅ℯ      n  -x\n",
       "───────── - ────────── - ──────── + x ⋅ℯ  \n",
       "     2          x            2            \n",
       "    x                       x             "
      ]
     },
     "execution_count": 4,
     "metadata": {},
     "output_type": "execute_result"
    }
   ],
   "source": [
    "from sympy import *\n",
    "x, n, z = symbols('x n z')\n",
    "# https://docs.sympy.org/latest/tutorials/intro-tutorial/calculus.html#derivatives\n",
    "diff(diff(x**n*exp(-x), x),x)"
   ]
  },
  {
   "cell_type": "code",
   "execution_count": 5,
   "id": "6b3bd359-2a6d-4211-bc33-2e07b4c60201",
   "metadata": {},
   "outputs": [
    {
     "data": {
      "image/png": "[encoded data removed]",
      "text/latex": [
       "$\\displaystyle \\left[ \\left\\{ x : - \\sqrt{n} + n\\right\\}, \\  \\left\\{ x : \\sqrt{n} + n\\right\\}\\right]$"
      ],
      "text/plain": [
       "[{x: -√n + n}, {x: √n + n}]"
      ]
     },
     "execution_count": 5,
     "metadata": {},
     "output_type": "execute_result"
    }
   ],
   "source": [
    "# https://docs.sympy.org/latest/guides/solving/solve-equation-algebraically.html\n",
    "solve(diff(diff(x**n*exp(-x), x),x),x,dict=True)"
   ]
  },
  {
   "cell_type": "markdown",
   "id": "596045d5-8d55-4805-9fa2-58d08f867752",
   "metadata": {},
   "source": [
    "# [Alternative derivations](https://en.wikipedia.org/wiki/Stirling%27s_approximation#Alternative_derivations)"
   ]
  },
  {
   "cell_type": "code",
   "execution_count": 7,
   "id": "1802045d-3906-42f8-aa73-1dd932466b4b",
   "metadata": {
    "scrolled": true
   },
   "outputs": [
    {
     "data": {
      "image/png": "[encoded data removed]",
      "text/latex": [
       "$\\displaystyle - \\frac{1}{x^{2}}$"
      ],
      "text/plain": [
       "-1 \n",
       "───\n",
       "  2\n",
       " x "
      ]
     },
     "execution_count": 7,
     "metadata": {},
     "output_type": "execute_result"
    }
   ],
   "source": [
    "diff(diff(log(x)-x,x)) # trivial"
   ]
  },
  {
   "cell_type": "code",
   "execution_count": null,
   "id": "edd09905-4e44-4951-ab15-6f5881788ba0",
   "metadata": {},
   "outputs": [],
   "source": []
  }
 ],
 "metadata": {
  "kernelspec": {
   "display_name": "Python (misc)",
   "language": "python",
   "name": "misc"
  },
  "language_info": {
   "codemirror_mode": {
    "name": "ipython",
    "version": 3
   },
   "file_extension": ".py",
   "mimetype": "text/x-python",
   "name": "python",
   "nbconvert_exporter": "python",
   "pygments_lexer": "ipython3",
   "version": "3.11.5"
  }
 },
 "nbformat": 4,
 "nbformat_minor": 5
}
